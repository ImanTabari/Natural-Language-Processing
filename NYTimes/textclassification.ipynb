{
 "cells": [
  {
   "cell_type": "markdown",
   "metadata": {},
   "source": [
    "## 1- Import neccessary Packages"
   ]
  },
  {
   "cell_type": "code",
   "execution_count": 36,
   "metadata": {},
   "outputs": [],
   "source": [
    "\n",
    "import pandas as pd\n",
    "import string\n",
    "from nltk.corpus import stopwords\n",
    "from sklearn import model_selection, naive_bayes, svm\n",
    "from sklearn.feature_extraction.text import TfidfVectorizer\n",
    "from sklearn.metrics import accuracy_score, precision_score, recall_score, f1_score\n",
    "import numpy as np \n",
    "import matplotlib.pyplot as plt\n",
    "import seaborn as sns; sns.set()\n",
    "from sklearn.metrics import confusion_matrix, classification_report\n",
    "from sklearn.ensemble import RandomForestClassifier\n"
   ]
  },
  {
   "cell_type": "markdown",
   "metadata": {},
   "source": [
    "## 2- Add data as pandas Data Frame\n",
    "#### in this section, nytimes.csv file is readed as a panda data frame, then category name for each sample is added as new column    "
   ]
  },
  {
   "cell_type": "code",
   "execution_count": 37,
   "metadata": {},
   "outputs": [],
   "source": [
    "# read nytimes.csv\n",
    "df = pd.read_csv('nytimes.csv')"
   ]
  },
  {
   "cell_type": "code",
   "execution_count": 38,
   "metadata": {},
   "outputs": [
    {
     "name": "stdout",
     "output_type": "stream",
     "text": [
      "<class 'pandas.core.frame.DataFrame'>\n",
      "RangeIndex: 6207 entries, 0 to 6206\n",
      "Data columns (total 4 columns):\n",
      " #   Column      Non-Null Count  Dtype \n",
      "---  ------      --------------  ----- \n",
      " 0   Unnamed: 0  6207 non-null   int64 \n",
      " 1   id          6207 non-null   int64 \n",
      " 2   text        6037 non-null   object\n",
      " 3   label       6207 non-null   int64 \n",
      "dtypes: int64(3), object(1)\n",
      "memory usage: 194.1+ KB\n"
     ]
    }
   ],
   "source": [
    "\n",
    "df.info()"
   ]
  },
  {
   "cell_type": "code",
   "execution_count": 39,
   "metadata": {},
   "outputs": [],
   "source": [
    "# NY-News lables encoding\n",
    "lables = {\n",
    "    0:'Macroeconomics',\n",
    "    1:'Civil Rights',\n",
    "    2:'Health',\n",
    "    3:'Agriculture',\n",
    "    4:'Labor',\n",
    "    5:'Education',\n",
    "    6:'Environment',\n",
    "    7:'Energy',\n",
    "    8:'Immigration',\n",
    "    9:'Transportation',\n",
    "    10:'Law & Crime',\n",
    "    11:'Welfare',\n",
    "    12:'Housing',\n",
    "    13:'Domestic Commerce',\n",
    "    14:'Defense',\n",
    "    15:'Technology',\n",
    "    16:'Foreign Trade',\n",
    "    17:'International Affairs',\n",
    "    18:'Government',\n",
    "    19:'Public Lands',\n",
    "    20:'None'\n",
    "}"
   ]
  },
  {
   "cell_type": "code",
   "execution_count": 40,
   "metadata": {},
   "outputs": [],
   "source": [
    "#Add New-York news lable, as a new column\n",
    "for num in lables.keys():\n",
    "    filt = (df['label'] == num)\n",
    "    df.loc[filt,'newsCategory'] = lables[num]"
   ]
  },
  {
   "cell_type": "code",
   "execution_count": 41,
   "metadata": {},
   "outputs": [
    {
     "data": {
      "text/html": [
       "<div>\n",
       "<style scoped>\n",
       "    .dataframe tbody tr th:only-of-type {\n",
       "        vertical-align: middle;\n",
       "    }\n",
       "\n",
       "    .dataframe tbody tr th {\n",
       "        vertical-align: top;\n",
       "    }\n",
       "\n",
       "    .dataframe thead th {\n",
       "        text-align: right;\n",
       "    }\n",
       "</style>\n",
       "<table border=\"1\" class=\"dataframe\">\n",
       "  <thead>\n",
       "    <tr style=\"text-align: right;\">\n",
       "      <th></th>\n",
       "      <th>Unnamed: 0</th>\n",
       "      <th>id</th>\n",
       "      <th>text</th>\n",
       "      <th>label</th>\n",
       "      <th>newsCategory</th>\n",
       "    </tr>\n",
       "  </thead>\n",
       "  <tbody>\n",
       "    <tr>\n",
       "      <th>0</th>\n",
       "      <td>13198</td>\n",
       "      <td>17116</td>\n",
       "      <td>Scott Brosius returned home at 2 a.m. yesterda...</td>\n",
       "      <td>20</td>\n",
       "      <td>None</td>\n",
       "    </tr>\n",
       "    <tr>\n",
       "      <th>1</th>\n",
       "      <td>24713</td>\n",
       "      <td>30994</td>\n",
       "      <td>It's a brisk Wednesday morning in the windy ca...</td>\n",
       "      <td>0</td>\n",
       "      <td>Macroeconomics</td>\n",
       "    </tr>\n",
       "    <tr>\n",
       "      <th>2</th>\n",
       "      <td>7139</td>\n",
       "      <td>9132</td>\n",
       "      <td>INTERNATIONAL A3-12</td>\n",
       "      <td>14</td>\n",
       "      <td>Defense</td>\n",
       "    </tr>\n",
       "    <tr>\n",
       "      <th>3</th>\n",
       "      <td>12299</td>\n",
       "      <td>16054</td>\n",
       "      <td>The Bush administration is preparing to approv...</td>\n",
       "      <td>6</td>\n",
       "      <td>Environment</td>\n",
       "    </tr>\n",
       "    <tr>\n",
       "      <th>4</th>\n",
       "      <td>266</td>\n",
       "      <td>431</td>\n",
       "      <td>With the state facing its potentially worst fi...</td>\n",
       "      <td>20</td>\n",
       "      <td>None</td>\n",
       "    </tr>\n",
       "  </tbody>\n",
       "</table>\n",
       "</div>"
      ],
      "text/plain": [
       "   Unnamed: 0     id                                               text  \\\n",
       "0       13198  17116  Scott Brosius returned home at 2 a.m. yesterda...   \n",
       "1       24713  30994  It's a brisk Wednesday morning in the windy ca...   \n",
       "2        7139   9132                                INTERNATIONAL A3-12   \n",
       "3       12299  16054  The Bush administration is preparing to approv...   \n",
       "4         266    431  With the state facing its potentially worst fi...   \n",
       "\n",
       "   label    newsCategory  \n",
       "0     20            None  \n",
       "1      0  Macroeconomics  \n",
       "2     14         Defense  \n",
       "3      6     Environment  \n",
       "4     20            None  "
      ]
     },
     "execution_count": 41,
     "metadata": {},
     "output_type": "execute_result"
    }
   ],
   "source": [
    "df.head()"
   ]
  },
  {
   "cell_type": "markdown",
   "metadata": {},
   "source": [
    "## 3- Remove null values in the text column:\n",
    "#### in this section null data on the 'text' column of data frame are dropped based on the proportion of them.\n",
    "#### results stored in a new data frame called 'news'"
   ]
  },
  {
   "cell_type": "code",
   "execution_count": 42,
   "metadata": {},
   "outputs": [
    {
     "data": {
      "text/plain": [
       "2.7388432415015305"
      ]
     },
     "execution_count": 42,
     "metadata": {},
     "output_type": "execute_result"
    }
   ],
   "source": [
    "# null values ratio compared to all values\n",
    "df['text'].isna().sum()\n",
    "null_values = (df['text'].isna().sum()/len(df))*100\n",
    "null_values"
   ]
  },
  {
   "cell_type": "markdown",
   "metadata": {},
   "source": [
    "### 2.7% contains null values so I could safely ignore those data points"
   ]
  },
  {
   "cell_type": "code",
   "execution_count": 43,
   "metadata": {},
   "outputs": [],
   "source": [
    "# filtering not null data in a new data frame: 'news'\n",
    "filt = df['text'].isna()\n",
    "news = df.loc[~filt, :]"
   ]
  },
  {
   "cell_type": "code",
   "execution_count": 44,
   "metadata": {},
   "outputs": [
    {
     "name": "stdout",
     "output_type": "stream",
     "text": [
      "<class 'pandas.core.frame.DataFrame'>\n",
      "Int64Index: 6037 entries, 0 to 6206\n",
      "Data columns (total 5 columns):\n",
      " #   Column        Non-Null Count  Dtype \n",
      "---  ------        --------------  ----- \n",
      " 0   Unnamed: 0    6037 non-null   int64 \n",
      " 1   id            6037 non-null   int64 \n",
      " 2   text          6037 non-null   object\n",
      " 3   label         6037 non-null   int64 \n",
      " 4   newsCategory  6037 non-null   object\n",
      "dtypes: int64(3), object(2)\n",
      "memory usage: 283.0+ KB\n"
     ]
    }
   ],
   "source": [
    "news.info()"
   ]
  },
  {
   "cell_type": "markdown",
   "metadata": {},
   "source": [
    "## 4- Text Cleaning and Tokenizing:\n",
    "#### a function is created to remove punctuations, digits, and stopwords from text.\n",
    "#### a new column is defined in the news data frame called 'tokenized' to store processed texts. "
   ]
  },
  {
   "cell_type": "code",
   "execution_count": 45,
   "metadata": {},
   "outputs": [],
   "source": [
    "def textCleaning(text):\n",
    "    # remove Punctuations and Digits from text\n",
    "    rmvPuncAndDigit = [char for char in text if (char not in string.punctuation and char not in string.digits)]\n",
    "    rmvPuncAndDigit = ''.join(rmvPuncAndDigit)\n",
    "    # Tokenizing text and removing stop words\n",
    "    tokens = [word.lower() for word in rmvPuncAndDigit.split() if word.lower() not in set(stopwords.words('english'))]\n",
    "    cleanText = ' '.join(tokens) \n",
    "    return cleanText  \n"
   ]
  },
  {
   "cell_type": "code",
   "execution_count": 46,
   "metadata": {},
   "outputs": [
    {
     "name": "stderr",
     "output_type": "stream",
     "text": [
      "/var/folders/gs/b_ygzg4s6nd75t8lkkpj09gc0000gn/T/ipykernel_6297/4179679863.py:2: SettingWithCopyWarning: \n",
      "A value is trying to be set on a copy of a slice from a DataFrame.\n",
      "Try using .loc[row_indexer,col_indexer] = value instead\n",
      "\n",
      "See the caveats in the documentation: https://pandas.pydata.org/pandas-docs/stable/user_guide/indexing.html#returning-a-view-versus-a-copy\n",
      "  news['tokenized'] = news['text'].map(textCleaning)\n"
     ]
    }
   ],
   "source": [
    "# new column tokenized to store processed texts\n",
    "news['tokenized'] = news['text'].map(textCleaning)"
   ]
  },
  {
   "cell_type": "code",
   "execution_count": 47,
   "metadata": {},
   "outputs": [
    {
     "name": "stdout",
     "output_type": "stream",
     "text": [
      "<class 'pandas.core.frame.DataFrame'>\n",
      "Int64Index: 6037 entries, 0 to 6206\n",
      "Data columns (total 6 columns):\n",
      " #   Column        Non-Null Count  Dtype \n",
      "---  ------        --------------  ----- \n",
      " 0   Unnamed: 0    6037 non-null   int64 \n",
      " 1   id            6037 non-null   int64 \n",
      " 2   text          6037 non-null   object\n",
      " 3   label         6037 non-null   int64 \n",
      " 4   newsCategory  6037 non-null   object\n",
      " 5   tokenized     6037 non-null   object\n",
      "dtypes: int64(3), object(3)\n",
      "memory usage: 330.1+ KB\n"
     ]
    }
   ],
   "source": [
    "news.info()"
   ]
  },
  {
   "cell_type": "code",
   "execution_count": 48,
   "metadata": {},
   "outputs": [
    {
     "data": {
      "text/html": [
       "<div>\n",
       "<style scoped>\n",
       "    .dataframe tbody tr th:only-of-type {\n",
       "        vertical-align: middle;\n",
       "    }\n",
       "\n",
       "    .dataframe tbody tr th {\n",
       "        vertical-align: top;\n",
       "    }\n",
       "\n",
       "    .dataframe thead th {\n",
       "        text-align: right;\n",
       "    }\n",
       "</style>\n",
       "<table border=\"1\" class=\"dataframe\">\n",
       "  <thead>\n",
       "    <tr style=\"text-align: right;\">\n",
       "      <th></th>\n",
       "      <th>Unnamed: 0</th>\n",
       "      <th>id</th>\n",
       "      <th>text</th>\n",
       "      <th>label</th>\n",
       "      <th>newsCategory</th>\n",
       "      <th>tokenized</th>\n",
       "    </tr>\n",
       "  </thead>\n",
       "  <tbody>\n",
       "    <tr>\n",
       "      <th>0</th>\n",
       "      <td>13198</td>\n",
       "      <td>17116</td>\n",
       "      <td>Scott Brosius returned home at 2 a.m. yesterda...</td>\n",
       "      <td>20</td>\n",
       "      <td>None</td>\n",
       "      <td>scott brosius returned home yesterday still ov...</td>\n",
       "    </tr>\n",
       "    <tr>\n",
       "      <th>1</th>\n",
       "      <td>24713</td>\n",
       "      <td>30994</td>\n",
       "      <td>It's a brisk Wednesday morning in the windy ca...</td>\n",
       "      <td>0</td>\n",
       "      <td>Macroeconomics</td>\n",
       "      <td>brisk wednesday morning windy caverns wall str...</td>\n",
       "    </tr>\n",
       "    <tr>\n",
       "      <th>2</th>\n",
       "      <td>7139</td>\n",
       "      <td>9132</td>\n",
       "      <td>INTERNATIONAL A3-12</td>\n",
       "      <td>14</td>\n",
       "      <td>Defense</td>\n",
       "      <td>international</td>\n",
       "    </tr>\n",
       "    <tr>\n",
       "      <th>3</th>\n",
       "      <td>12299</td>\n",
       "      <td>16054</td>\n",
       "      <td>The Bush administration is preparing to approv...</td>\n",
       "      <td>6</td>\n",
       "      <td>Environment</td>\n",
       "      <td>bush administration preparing approve clintone...</td>\n",
       "    </tr>\n",
       "    <tr>\n",
       "      <th>4</th>\n",
       "      <td>266</td>\n",
       "      <td>431</td>\n",
       "      <td>With the state facing its potentially worst fi...</td>\n",
       "      <td>20</td>\n",
       "      <td>None</td>\n",
       "      <td>state facing potentially worst fiscal crisis y...</td>\n",
       "    </tr>\n",
       "  </tbody>\n",
       "</table>\n",
       "</div>"
      ],
      "text/plain": [
       "   Unnamed: 0     id                                               text  \\\n",
       "0       13198  17116  Scott Brosius returned home at 2 a.m. yesterda...   \n",
       "1       24713  30994  It's a brisk Wednesday morning in the windy ca...   \n",
       "2        7139   9132                                INTERNATIONAL A3-12   \n",
       "3       12299  16054  The Bush administration is preparing to approv...   \n",
       "4         266    431  With the state facing its potentially worst fi...   \n",
       "\n",
       "   label    newsCategory                                          tokenized  \n",
       "0     20            None  scott brosius returned home yesterday still ov...  \n",
       "1      0  Macroeconomics  brisk wednesday morning windy caverns wall str...  \n",
       "2     14         Defense                                      international  \n",
       "3      6     Environment  bush administration preparing approve clintone...  \n",
       "4     20            None  state facing potentially worst fiscal crisis y...  "
      ]
     },
     "execution_count": 48,
     "metadata": {},
     "output_type": "execute_result"
    }
   ],
   "source": [
    "news.head()"
   ]
  },
  {
   "cell_type": "markdown",
   "metadata": {},
   "source": [
    "## 5- Word Vectorization"
   ]
  },
  {
   "cell_type": "code",
   "execution_count": 49,
   "metadata": {},
   "outputs": [],
   "source": [
    "TfidfVect = TfidfVectorizer()\n",
    "x = TfidfVect.fit_transform(news['tokenized'])"
   ]
  },
  {
   "cell_type": "code",
   "execution_count": 50,
   "metadata": {},
   "outputs": [
    {
     "name": "stdout",
     "output_type": "stream",
     "text": [
      "  (0, 15836)\t0.06646929528122372\n",
      "  (0, 10528)\t0.1723415815655626\n",
      "  (0, 10543)\t0.09986016451149529\n",
      "  (0, 16233)\t0.13254803448744024\n",
      "  (0, 6308)\t0.12057735259893312\n",
      "  (0, 3426)\t0.13419391337320039\n",
      "  (0, 20182)\t0.11442072269472173\n",
      "  (0, 7350)\t0.14155309077157954\n",
      "  (0, 2615)\t0.10728445248565714\n",
      "  (0, 16876)\t0.1667600887899077\n",
      "  (0, 4133)\t0.0915536975979885\n",
      "  (0, 16363)\t0.12152256765100188\n",
      "  (0, 20429)\t0.09587171224731471\n",
      "  (0, 7490)\t0.26009997658010087\n",
      "  (0, 9295)\t0.175765145074047\n",
      "  (0, 12271)\t0.16037089967705548\n",
      "  (0, 15755)\t0.12576575190045597\n",
      "  (0, 7493)\t0.20016444675517786\n",
      "  (0, 11127)\t0.20016444675517786\n",
      "  (0, 18722)\t0.19115939047103855\n",
      "  (0, 5526)\t0.1723415815655626\n",
      "  (0, 6090)\t0.20016444675517786\n",
      "  (0, 12895)\t0.19115939047103855\n",
      "  (0, 17606)\t0.10779897437322868\n",
      "  (0, 20573)\t0.07692389788870763\n",
      "  :\t:\n",
      "  (6035, 11807)\t0.08602655090913403\n",
      "  (6036, 18810)\t0.3069169859719288\n",
      "  (6036, 8288)\t0.29310931543882945\n",
      "  (6036, 17324)\t0.26950494675523523\n",
      "  (6036, 3120)\t0.26950494675523523\n",
      "  (6036, 15392)\t0.21585178018863796\n",
      "  (6036, 17403)\t0.212499511237552\n",
      "  (6036, 16381)\t0.23610387992114623\n",
      "  (6036, 9772)\t0.245900578071641\n",
      "  (6036, 3118)\t0.18087319778874858\n",
      "  (6036, 7626)\t0.16322626871937596\n",
      "  (6036, 16304)\t0.21043500608656435\n",
      "  (6036, 3579)\t0.22090606103848942\n",
      "  (6036, 20178)\t0.18943143561618525\n",
      "  (6036, 8759)\t0.22684347483287887\n",
      "  (6036, 20084)\t0.15705926594754396\n",
      "  (6036, 13287)\t0.1910929312631242\n",
      "  (6036, 7154)\t0.16864304282144957\n",
      "  (6036, 11489)\t0.17883343212714767\n",
      "  (6036, 1028)\t0.167773534164208\n",
      "  (6036, 643)\t0.11496963619146712\n",
      "  (6036, 12072)\t0.137439764696527\n",
      "  (6036, 18747)\t0.08959122548332694\n",
      "  (6036, 2519)\t0.12402578531863087\n",
      "  (6036, 20429)\t0.14700241446425963\n"
     ]
    }
   ],
   "source": [
    "print(x)"
   ]
  },
  {
   "cell_type": "markdown",
   "metadata": {},
   "source": [
    "## 6- Prepare Train and Test Data Sets using a 80/20 training-test split"
   ]
  },
  {
   "cell_type": "code",
   "execution_count": 51,
   "metadata": {},
   "outputs": [],
   "source": [
    "trainX, testX, trainY, testY = model_selection.train_test_split(x, news['label'], test_size= 0.2)"
   ]
  },
  {
   "cell_type": "markdown",
   "metadata": {},
   "source": [
    "## 7- Use ML Algorithms\n",
    "#### three different algorithms are used in this section: 1- Naive Bayes 2- SVM 3- Random Forest\n",
    "#### for each classifier 4 different score are calculated.\n",
    "#### the performance of each classifier on every category is provided  "
   ]
  },
  {
   "cell_type": "markdown",
   "metadata": {},
   "source": [
    "### 7-1- Use the Naive Bayse Algorithms to Predict the outcome"
   ]
  },
  {
   "cell_type": "code",
   "execution_count": 52,
   "metadata": {},
   "outputs": [
    {
     "name": "stdout",
     "output_type": "stream",
     "text": [
      "Naive Bayes Accuracy Score ->  39.32119205298013\n",
      "Naive Bayes precision Score ->  82.28618489688489\n",
      "Naive Bayes Recall Score ->  39.32119205298013\n",
      "Naive Bayes F1 Score ->  49.12004235639129\n"
     ]
    }
   ],
   "source": [
    "# fit the training dataset on the NB classifier\n",
    "Naive = naive_bayes.MultinomialNB()\n",
    "Naive.fit(trainX,trainY)\n",
    "# predict the labels on validation dataset\n",
    "predictionsNB = Naive.predict(testX)\n",
    "# Use accuracy_score function to get the accuracy\n",
    "print(\"Naive Bayes Accuracy Score -> \",accuracy_score(predictionsNB, testY)*100)\n",
    "# Use precision_score function to get the accuracy\n",
    "print(\"Naive Bayes precision Score -> \",precision_score(predictionsNB, testY, average = 'weighted', zero_division= 0)*100)\n",
    "# Use recall_score function to get the accuracy\n",
    "print(\"Naive Bayes Recall Score -> \",recall_score(predictionsNB, testY, average = 'weighted', zero_division= 0)*100)\n",
    "# Use F1_score function to get the accuracy\n",
    "print(\"Naive Bayes F1 Score -> \",f1_score(predictionsNB, testY, average = 'weighted', zero_division= 0)*100)"
   ]
  },
  {
   "cell_type": "code",
   "execution_count": 53,
   "metadata": {},
   "outputs": [
    {
     "name": "stdout",
     "output_type": "stream",
     "text": [
      "                       precision    recall  f1-score   support\n",
      "\n",
      "                 None       0.00      0.00      0.00        48\n",
      "       Macroeconomics       0.00      0.00      0.00        36\n",
      "              Defense       1.00      0.08      0.16        71\n",
      "          Environment       0.00      0.00      0.00         6\n",
      "                Labor       0.00      0.00      0.00        11\n",
      "               Health       0.00      0.00      0.00        45\n",
      "    Domestic Commerce       0.00      0.00      0.00        22\n",
      "International Affairs       0.00      0.00      0.00        13\n",
      "           Government       0.00      0.00      0.00         6\n",
      "       Transportation       0.00      0.00      0.00        29\n",
      "            Education       1.00      0.01      0.02        79\n",
      "         Civil Rights       0.00      0.00      0.00        14\n",
      "              Welfare       0.00      0.00      0.00        11\n",
      "          Agriculture       0.00      0.00      0.00        51\n",
      "               Energy       0.67      0.55      0.60       175\n",
      "           Technology       0.00      0.00      0.00        27\n",
      "          Law & Crime       0.00      0.00      0.00        11\n",
      "              Housing       0.31      0.93      0.46       261\n",
      "          Immigration       0.47      0.76      0.58       139\n",
      "         Public Lands       0.00      0.00      0.00        12\n",
      "        Foreign Trade       0.60      0.17      0.27       141\n",
      "\n",
      "             accuracy                           0.39      1208\n",
      "            macro avg       0.19      0.12      0.10      1208\n",
      "         weighted avg       0.41      0.39      0.30      1208\n",
      "\n"
     ]
    },
    {
     "name": "stderr",
     "output_type": "stream",
     "text": [
      "/opt/homebrew/anaconda3/lib/python3.9/site-packages/sklearn/metrics/_classification.py:1318: UndefinedMetricWarning: Precision and F-score are ill-defined and being set to 0.0 in labels with no predicted samples. Use `zero_division` parameter to control this behavior.\n",
      "  _warn_prf(average, modifier, msg_start, len(result))\n",
      "/opt/homebrew/anaconda3/lib/python3.9/site-packages/sklearn/metrics/_classification.py:1318: UndefinedMetricWarning: Precision and F-score are ill-defined and being set to 0.0 in labels with no predicted samples. Use `zero_division` parameter to control this behavior.\n",
      "  _warn_prf(average, modifier, msg_start, len(result))\n",
      "/opt/homebrew/anaconda3/lib/python3.9/site-packages/sklearn/metrics/_classification.py:1318: UndefinedMetricWarning: Precision and F-score are ill-defined and being set to 0.0 in labels with no predicted samples. Use `zero_division` parameter to control this behavior.\n",
      "  _warn_prf(average, modifier, msg_start, len(result))\n"
     ]
    }
   ],
   "source": [
    "print(classification_report(testY,predictionsNB, target_names= news['newsCategory'].unique()))"
   ]
  },
  {
   "cell_type": "code",
   "execution_count": 59,
   "metadata": {},
   "outputs": [
    {
     "data": {
      "text/plain": [
       "Text(89.133125, 0.5, 'predicted label')"
      ]
     },
     "execution_count": 59,
     "metadata": {},
     "output_type": "execute_result"
    },
    {
     "data": {
      "image/png": "[encoded data removed]",
      "text/plain": [
       "<Figure size 432x288 with 1 Axes>"
      ]
     },
     "metadata": {},
     "output_type": "display_data"
    }
   ],
   "source": [
    "mat = confusion_matrix(testY, predictionsNB)\n",
    "sns.heatmap(mat.T, square=True, annot=True, fmt='d', cbar=False,\n",
    "           xticklabels = news['newsCategory'].unique(),\n",
    "            yticklabels= news['newsCategory'].unique())\n",
    "# Plotting Heatmap of Confusion Matrix\n",
    "plt.xlabel('true label')\n",
    "plt.ylabel('predicted label')"
   ]
  },
  {
   "cell_type": "markdown",
   "metadata": {},
   "source": [
    "### 7-2- Use the SVM Algorithms to Predict the outcome"
   ]
  },
  {
   "cell_type": "code",
   "execution_count": 55,
   "metadata": {},
   "outputs": [
    {
     "name": "stdout",
     "output_type": "stream",
     "text": [
      "SVM Accuracy Score ->  57.94701986754966\n",
      "SVM precision Score ->  67.2627994431755\n",
      "SVM Recall Score ->  57.94701986754966\n",
      "SVM F1 Score ->  59.57522724804387\n"
     ]
    }
   ],
   "source": [
    "# fit the training dataset on the classifier\n",
    "SVM = svm.SVC(C=1.0, kernel='linear', degree=3, gamma='auto')\n",
    "SVM.fit(trainX,trainY)\n",
    "# predict the labels on validation dataset\n",
    "predictionsSVM = SVM.predict(testX)\n",
    "# Use accuracy_score function to get the accuracy\n",
    "print(\"SVM Accuracy Score -> \",accuracy_score(predictionsSVM, testY)*100)\n",
    "# Use precision_score function to get the accuracy\n",
    "print(\"SVM precision Score -> \",precision_score(predictionsSVM, testY, average = 'weighted', zero_division= 0)*100)\n",
    "# Use recall_score function to get the accuracy\n",
    "print(\"SVM Recall Score -> \",recall_score(predictionsSVM, testY, average = 'weighted', zero_division= 0)*100)\n",
    "# Use F1_score function to get the accuracy\n",
    "print(\"SVM F1 Score -> \",f1_score(predictionsSVM, testY, average = 'weighted', zero_division= 0)*100)"
   ]
  },
  {
   "cell_type": "code",
   "execution_count": 56,
   "metadata": {},
   "outputs": [
    {
     "name": "stdout",
     "output_type": "stream",
     "text": [
      "                       precision    recall  f1-score   support\n",
      "\n",
      "                 None       0.86      0.40      0.54        48\n",
      "       Macroeconomics       0.80      0.22      0.35        36\n",
      "              Defense       0.77      0.56      0.65        71\n",
      "          Environment       0.50      0.17      0.25         6\n",
      "                Labor       0.33      0.09      0.14        11\n",
      "               Health       0.84      0.58      0.68        45\n",
      "    Domestic Commerce       0.83      0.23      0.36        22\n",
      "International Affairs       0.50      0.08      0.13        13\n",
      "           Government       0.67      0.33      0.44         6\n",
      "       Transportation       0.50      0.14      0.22        29\n",
      "            Education       0.61      0.51      0.55        79\n",
      "         Civil Rights       1.00      0.50      0.67        14\n",
      "              Welfare       1.00      0.18      0.31        11\n",
      "          Agriculture       0.77      0.39      0.52        51\n",
      "               Energy       0.75      0.65      0.69       175\n",
      "           Technology       0.62      0.19      0.29        27\n",
      "          Law & Crime       1.00      0.27      0.43        11\n",
      "              Housing       0.50      0.82      0.62       261\n",
      "          Immigration       0.67      0.71      0.69       139\n",
      "         Public Lands       0.00      0.00      0.00        12\n",
      "        Foreign Trade       0.39      0.64      0.48       141\n",
      "\n",
      "             accuracy                           0.58      1208\n",
      "            macro avg       0.66      0.36      0.43      1208\n",
      "         weighted avg       0.63      0.58      0.56      1208\n",
      "\n"
     ]
    },
    {
     "name": "stderr",
     "output_type": "stream",
     "text": [
      "/opt/homebrew/anaconda3/lib/python3.9/site-packages/sklearn/metrics/_classification.py:1318: UndefinedMetricWarning: Precision and F-score are ill-defined and being set to 0.0 in labels with no predicted samples. Use `zero_division` parameter to control this behavior.\n",
      "  _warn_prf(average, modifier, msg_start, len(result))\n",
      "/opt/homebrew/anaconda3/lib/python3.9/site-packages/sklearn/metrics/_classification.py:1318: UndefinedMetricWarning: Precision and F-score are ill-defined and being set to 0.0 in labels with no predicted samples. Use `zero_division` parameter to control this behavior.\n",
      "  _warn_prf(average, modifier, msg_start, len(result))\n",
      "/opt/homebrew/anaconda3/lib/python3.9/site-packages/sklearn/metrics/_classification.py:1318: UndefinedMetricWarning: Precision and F-score are ill-defined and being set to 0.0 in labels with no predicted samples. Use `zero_division` parameter to control this behavior.\n",
      "  _warn_prf(average, modifier, msg_start, len(result))\n"
     ]
    }
   ],
   "source": [
    "print(classification_report(testY,predictionsSVM, target_names= news['newsCategory'].unique()))"
   ]
  },
  {
   "cell_type": "markdown",
   "metadata": {},
   "source": [
    "#### 7-3- Use the Random Forest Algorithms to Predict the outcome"
   ]
  },
  {
   "cell_type": "code",
   "execution_count": 57,
   "metadata": {},
   "outputs": [
    {
     "name": "stdout",
     "output_type": "stream",
     "text": [
      "RF Accuracy Score ->  52.06953642384106\n",
      "RF precision Score ->  63.55366612229706\n",
      "RF Recall Score ->  52.06953642384106\n",
      "RF F1 Score ->  55.165398225310916\n"
     ]
    }
   ],
   "source": [
    "# creating a RF classifier\n",
    "clf = RandomForestClassifier(n_estimators = 100) \n",
    " \n",
    "# Training the model on the training dataset\n",
    "# fit function is used to train the model using the training sets as parameters\n",
    "clf.fit(trainX, trainY)\n",
    " \n",
    "# performing predictions on the test dataset\n",
    "predictionRF = clf.predict(testX)\n",
    "# Use accuracy_score function to get the accuracy\n",
    "print(\"RF Accuracy Score -> \",accuracy_score(predictionRF, testY)*100)\n",
    "# Use precision_score function to get the accuracy\n",
    "print(\"RF precision Score -> \",precision_score(predictionRF, testY, average = 'weighted', zero_division= 0)*100)\n",
    "# Use recall_score function to get the accuracy\n",
    "print(\"RF Recall Score -> \",recall_score(predictionRF, testY, average = 'weighted', zero_division= 0)*100)\n",
    "# Use F1_score function to get the accuracy\n",
    "print(\"RF F1 Score -> \",f1_score(predictionRF, testY, average = 'weighted', zero_division= 0)*100)"
   ]
  },
  {
   "cell_type": "code",
   "execution_count": 58,
   "metadata": {},
   "outputs": [
    {
     "name": "stdout",
     "output_type": "stream",
     "text": [
      "                       precision    recall  f1-score   support\n",
      "\n",
      "                 None       0.72      0.38      0.49        48\n",
      "       Macroeconomics       0.67      0.06      0.10        36\n",
      "              Defense       0.70      0.56      0.62        71\n",
      "          Environment       0.00      0.00      0.00         6\n",
      "                Labor       0.00      0.00      0.00        11\n",
      "               Health       0.58      0.62      0.60        45\n",
      "    Domestic Commerce       1.00      0.09      0.17        22\n",
      "International Affairs       0.00      0.00      0.00        13\n",
      "           Government       0.00      0.00      0.00         6\n",
      "       Transportation       0.62      0.17      0.27        29\n",
      "            Education       0.61      0.35      0.45        79\n",
      "         Civil Rights       1.00      0.07      0.13        14\n",
      "              Welfare       0.00      0.00      0.00        11\n",
      "          Agriculture       0.56      0.27      0.37        51\n",
      "               Energy       0.61      0.67      0.64       175\n",
      "           Technology       0.50      0.11      0.18        27\n",
      "          Law & Crime       1.00      0.18      0.31        11\n",
      "              Housing       0.57      0.63      0.60       261\n",
      "          Immigration       0.54      0.83      0.65       139\n",
      "         Public Lands       0.00      0.00      0.00        12\n",
      "        Foreign Trade       0.31      0.63      0.41       141\n",
      "\n",
      "             accuracy                           0.52      1208\n",
      "            macro avg       0.48      0.27      0.29      1208\n",
      "         weighted avg       0.55      0.52      0.49      1208\n",
      "\n"
     ]
    },
    {
     "name": "stderr",
     "output_type": "stream",
     "text": [
      "/opt/homebrew/anaconda3/lib/python3.9/site-packages/sklearn/metrics/_classification.py:1318: UndefinedMetricWarning: Precision and F-score are ill-defined and being set to 0.0 in labels with no predicted samples. Use `zero_division` parameter to control this behavior.\n",
      "  _warn_prf(average, modifier, msg_start, len(result))\n",
      "/opt/homebrew/anaconda3/lib/python3.9/site-packages/sklearn/metrics/_classification.py:1318: UndefinedMetricWarning: Precision and F-score are ill-defined and being set to 0.0 in labels with no predicted samples. Use `zero_division` parameter to control this behavior.\n",
      "  _warn_prf(average, modifier, msg_start, len(result))\n",
      "/opt/homebrew/anaconda3/lib/python3.9/site-packages/sklearn/metrics/_classification.py:1318: UndefinedMetricWarning: Precision and F-score are ill-defined and being set to 0.0 in labels with no predicted samples. Use `zero_division` parameter to control this behavior.\n",
      "  _warn_prf(average, modifier, msg_start, len(result))\n"
     ]
    }
   ],
   "source": [
    "print(classification_report(testY,predictionRF, target_names= news['newsCategory'].unique()))"
   ]
  },
  {
   "cell_type": "markdown",
   "metadata": {},
   "source": [
    "# Conclusion and Future work\n",
    "### In general it looks like due to lack of enough data for some of the lables all the models conclusively dont have prediction power over them. However \n",
    "### some models are doing better on low resource setings. for example labor lable in SVM has 100% precision where as Naive Bayse could not detect any samples from this lable.\n",
    "### at the same time it looks like all of these models have the ability to detect labeles with higher examples.\n",
    "\n",
    "###  for the next step I would like to experiment:\n",
    "####    1- spend more time on preprocessing the data such as stemming and lemmatization.\n",
    "####    2- exclude labales with low resources this might help to more accurately predict for other lables.\n",
    "####    3-to analyse the length of each data samples and remove samples that are too short. very short sample data can be noise data.\n",
    "####    4- to up sample, the labels that we dont have enough data. for example we could duplicate and replace some of words with their synonims "
   ]
  },
  {
   "cell_type": "markdown",
   "metadata": {},
   "source": []
  }
 ],
 "metadata": {
  "kernelspec": {
   "display_name": "Python 3 (ipykernel)",
   "language": "python",
   "name": "python3"
  },
  "language_info": {
   "codemirror_mode": {
    "name": "ipython",
    "version": 3
   },
   "file_extension": ".py",
   "mimetype": "text/x-python",
   "name": "python",
   "nbconvert_exporter": "python",
   "pygments_lexer": "ipython3",
   "version": "3.9.12 (main, Jun  1 2022, 06:34:44) \n[Clang 12.0.0 ]"
  },
  "vscode": {
   "interpreter": {
    "hash": "38cca0c38332a56087b24af0bc80247f4fced29cb4f7f437d91dc159adec9c4e"
   }
  }
 },
 "nbformat": 4,
 "nbformat_minor": 2
}
